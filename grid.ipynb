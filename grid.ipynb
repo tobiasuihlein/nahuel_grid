{
 "cells": [
  {
   "cell_type": "code",
   "execution_count": 1,
   "metadata": {},
   "outputs": [],
   "source": [
    "from functions import *"
   ]
  },
  {
   "cell_type": "code",
   "execution_count": 2,
   "metadata": {},
   "outputs": [],
   "source": [
    "# specify the name of the image to be used\n",
    "img_name = 'image00008'\n",
    "\n",
    "# specify number of rows and cols to be used\n",
    "rows = 4\n",
    "cols = 8\n",
    "\n",
    "create_html_file(img_name, rows, cols)\n",
    "split_image(img_name, rows, cols)\n",
    "create_stylesheet(img_name)"
   ]
  }
 ],
 "metadata": {
  "kernelspec": {
   "display_name": "base",
   "language": "python",
   "name": "python3"
  },
  "language_info": {
   "codemirror_mode": {
    "name": "ipython",
    "version": 3
   },
   "file_extension": ".py",
   "mimetype": "text/x-python",
   "name": "python",
   "nbconvert_exporter": "python",
   "pygments_lexer": "ipython3",
   "version": "3.11.7"
  }
 },
 "nbformat": 4,
 "nbformat_minor": 2
}
