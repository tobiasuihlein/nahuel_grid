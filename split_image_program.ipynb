{
 "cells": [
  {
   "cell_type": "code",
   "execution_count": 3,
   "metadata": {},
   "outputs": [
    {
     "name": "stdout",
     "output_type": "stream",
     "text": [
      "Saved img_split/output_pieces/soda\\piece_0_0.jpg\n",
      "Saved img_split/output_pieces/soda\\piece_0_1.jpg\n",
      "Saved img_split/output_pieces/soda\\piece_0_2.jpg\n",
      "Saved img_split/output_pieces/soda\\piece_0_3.jpg\n",
      "Saved img_split/output_pieces/soda\\piece_0_4.jpg\n",
      "Saved img_split/output_pieces/soda\\piece_0_5.jpg\n",
      "Saved img_split/output_pieces/soda\\piece_0_6.jpg\n",
      "Saved img_split/output_pieces/soda\\piece_0_7.jpg\n",
      "Saved img_split/output_pieces/soda\\piece_1_0.jpg\n",
      "Saved img_split/output_pieces/soda\\piece_1_1.jpg\n",
      "Saved img_split/output_pieces/soda\\piece_1_2.jpg\n",
      "Saved img_split/output_pieces/soda\\piece_1_3.jpg\n",
      "Saved img_split/output_pieces/soda\\piece_1_4.jpg\n",
      "Saved img_split/output_pieces/soda\\piece_1_5.jpg\n",
      "Saved img_split/output_pieces/soda\\piece_1_6.jpg\n",
      "Saved img_split/output_pieces/soda\\piece_1_7.jpg\n",
      "Saved img_split/output_pieces/soda\\piece_2_0.jpg\n",
      "Saved img_split/output_pieces/soda\\piece_2_1.jpg\n",
      "Saved img_split/output_pieces/soda\\piece_2_2.jpg\n",
      "Saved img_split/output_pieces/soda\\piece_2_3.jpg\n",
      "Saved img_split/output_pieces/soda\\piece_2_4.jpg\n",
      "Saved img_split/output_pieces/soda\\piece_2_5.jpg\n",
      "Saved img_split/output_pieces/soda\\piece_2_6.jpg\n",
      "Saved img_split/output_pieces/soda\\piece_2_7.jpg\n",
      "Saved img_split/output_pieces/soda\\piece_3_0.jpg\n",
      "Saved img_split/output_pieces/soda\\piece_3_1.jpg\n",
      "Saved img_split/output_pieces/soda\\piece_3_2.jpg\n",
      "Saved img_split/output_pieces/soda\\piece_3_3.jpg\n",
      "Saved img_split/output_pieces/soda\\piece_3_4.jpg\n",
      "Saved img_split/output_pieces/soda\\piece_3_5.jpg\n",
      "Saved img_split/output_pieces/soda\\piece_3_6.jpg\n",
      "Saved img_split/output_pieces/soda\\piece_3_7.jpg\n"
     ]
    }
   ],
   "source": [
    "from PIL import Image\n",
    "import os\n",
    "\n",
    "def split_image(input_path, output_folder, rows, cols):\n",
    "    # Open the input image\n",
    "    img = Image.open(input_path)\n",
    "    img_width, img_height = img.size\n",
    "\n",
    "    # Calculate the size of each piece\n",
    "    piece_width = img_width // cols\n",
    "    piece_height = img_height // rows\n",
    "\n",
    "    # Create the output folder if it doesn't exist\n",
    "    if not os.path.exists(output_folder):\n",
    "        os.makedirs(output_folder)\n",
    "\n",
    "    # Split the image and save each piece\n",
    "    for row in range(rows):\n",
    "        for col in range(cols):\n",
    "            left = col * piece_width\n",
    "            top = row * piece_height\n",
    "            right = (col + 1) * piece_width\n",
    "            bottom = (row + 1) * piece_height\n",
    "            box = (left, top, right, bottom)\n",
    "            piece = img.crop(box)\n",
    "            piece_filename = f\"piece_{row}_{col}.jpg\"\n",
    "            piece_path = os.path.join(output_folder, piece_filename)\n",
    "            piece.save(piece_path)\n",
    "            print(f\"Saved {piece_path}\")\n",
    "\n",
    "# Example usage\n",
    "split_image('img/soda.jpg', 'img_split/output_pieces/soda', rows=4, cols=8)"
   ]
  },
  {
   "cell_type": "code",
   "execution_count": null,
   "metadata": {},
   "outputs": [],
   "source": []
  }
 ],
 "metadata": {
  "kernelspec": {
   "display_name": "base",
   "language": "python",
   "name": "python3"
  },
  "language_info": {
   "codemirror_mode": {
    "name": "ipython",
    "version": 3
   },
   "file_extension": ".py",
   "mimetype": "text/x-python",
   "name": "python",
   "nbconvert_exporter": "python",
   "pygments_lexer": "ipython3",
   "version": "3.11.7"
  }
 },
 "nbformat": 4,
 "nbformat_minor": 2
}
