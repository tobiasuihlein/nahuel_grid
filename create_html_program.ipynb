{
 "cells": [
  {
   "cell_type": "code",
   "execution_count": 28,
   "metadata": {},
   "outputs": [],
   "source": [
    "import os\n",
    "\n",
    "rows = 4\n",
    "cols = 8\n",
    "img_name = 'soda'\n",
    "\n",
    "html_file_name = 'test_0'\n",
    "\n",
    "html_output = ''\n",
    "html_output += '<!DOCTYPE html>'\n",
    "html_output += '<html>'\n",
    "html_output += '<head>'\n",
    "html_output += '<title>Test title</title>'\n",
    "html_output += '<link rel=\"stylesheet\" href=\"style.css\" />'\n",
    "html_output += '</head>'\n",
    "html_output += '<body>'\n",
    "html_output += '<div class=\"container\">'\n",
    "\n",
    "for row in range(rows):\n",
    "    html_output += '<div class=\"row\">'\n",
    "    for col in range(cols):\n",
    "        img_path = f\"'img_split/piece_{row}_{col}.jpg'\"\n",
    "        html_output += '<div class=\"grid-element\", '\n",
    "        html_output += f'style=\"background-image: url({img_path})\"'\n",
    "        html_output += '></div>'\n",
    "    html_output += '</div>'\n",
    "\n",
    "\n",
    "html_output += '</div>'\n",
    "html_output += '</body>'\n",
    "html_output += '</html>'\n",
    "\n",
    "output_folder = f'files/{img_name}'\n",
    "if not os.path.exists(f'files/{img_name}'):\n",
    "    os.makedirs(f'files/{img_name}')\n",
    "\n",
    "with open(f\"files/{img_name}/{html_file_name}.html\", \"w\") as text_file:\n",
    "    text_file.write(f\"{html_output}\")"
   ]
  },
  {
   "cell_type": "code",
   "execution_count": null,
   "metadata": {},
   "outputs": [],
   "source": []
  }
 ],
 "metadata": {
  "kernelspec": {
   "display_name": "base",
   "language": "python",
   "name": "python3"
  },
  "language_info": {
   "codemirror_mode": {
    "name": "ipython",
    "version": 3
   },
   "file_extension": ".py",
   "mimetype": "text/x-python",
   "name": "python",
   "nbconvert_exporter": "python",
   "pygments_lexer": "ipython3",
   "version": "3.11.7"
  }
 },
 "nbformat": 4,
 "nbformat_minor": 2
}
